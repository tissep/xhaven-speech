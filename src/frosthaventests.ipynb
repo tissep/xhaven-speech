{
 "cells": [
  {
   "cell_type": "code",
   "execution_count": null,
   "metadata": {},
   "outputs": [],
   "source": [
    "import socket\n",
    "# Create a socket object\n",
    "s = socket.socket()\n",
    "\n",
    "def connect_with_server(ip, port):\n",
    "    # Connect to the server\n",
    "    s.connect((ip, port))\n",
    "\n",
    "def send_data_to_server(data):\n",
    "    # Send data to the server\n",
    "    s.sendall(data.encode())\n",
    "\n",
    "    # Receive data from the server\n",
    "    response = s.recv(1024)\n",
    "    print(f\"Received from server: {response.decode()}\")\n",
    "    \n",
    "    \n",
    "def close_server():\n",
    "    s.close()\n",
    "\n",
    "# Replace with your server's IP address and port\n",
    "#ip = '192.168.1.124'\n",
    "ip = 'localhost'\n",
    "port = 4567\n",
    "\n",
    "# Replace with the actual data you want to send\n",
    "# The server expects messages to start with \"S3nD:\" and end with \"[EOM]\"\n",
    "connect_with_server(ip, port)\n",
    "#data = \"S3nD:Index:0Description:TestGameState:Test[EOM]\"\n",
    "#data = \"S3nD:ping[EOM]\"\n",
    "#data = \"S3nD:initversion:184[EOM]\"\n",
    "#send_data_to_server(data)\n"
   ]
  },
  {
   "cell_type": "code",
   "execution_count": null,
   "metadata": {},
   "outputs": [],
   "source": [
    "close_server()"
   ]
  },
  {
   "cell_type": "code",
   "execution_count": null,
   "metadata": {},
   "outputs": [],
   "source": [
    "data = \"S3nD:initversion:184[EOM]\"\n",
    "send_data_to_server(data)"
   ]
  },
  {
   "cell_type": "code",
   "execution_count": null,
   "metadata": {},
   "outputs": [],
   "source": [
    "data = \"S3nD:Index:0Description:Decrease[EOM]\"\n",
    "send_data_to_server(data)\n"
   ]
  },
  {
   "cell_type": "code",
   "execution_count": null,
   "metadata": {},
   "outputs": [],
   "source": [
    "data = 'S3nD:Index:4Description:Set initiative of DemolitionistGameState:{\"level\": 1, \"solo\": false, \"roundState\": 0, \"round\": 1, \"scenario\": \"#1 Roadside Ambush\", \"toastMessage\": \"\", \"scenarioSpecialRules\": [], \"scenarioSectionsAdded\": [], \"currentCampaign\": \"Jaws of the Lion\", \"currentList\": [{\"id\": \"Demolitionist\", \"turnState\": 0, \"characterState\": {\"initiative\": 55, \"health\": 11, \"maxHealth\": 11, \"level\": 3, \"xp\": 0, \"chill\": 0, \"display\": \"Demolitionist\", \"summonList\": [], \"conditions\": [], \"conditionsAddedThisTurn\": [], \"conditionsAddedPreviousTurn\": [] }, \"characterClass\": \"Demolitionist\" }, {\"id\": \"Common Vermling Raider\", \"turnState\": 0, \"isActive\": false, \"type\": \"Common Vermling Raider\", \"monsterInstances\": [{\"health\": 6, \"maxHealth\": 10, \"level\": 1, \"standeeNr\": 1, \"move\": 0, \"attack\": 0, \"range\": 0, \"name\": \"Common Vermling Raider\", \"gfx\": \"Vermling Raider\", \"roundSummoned\": -1, \"type\": 1, \"chill\": 0, \"conditions\": [], \"conditionsAddedThisTurn\": [], \"conditionsAddedPreviousTurn\": [] }, {\"health\": 6, \"maxHealth\": 10, \"level\": 1, \"standeeNr\": 3, \"move\": 0, \"attack\": 0, \"range\": 0, \"name\": \"Common Vermling Raider\", \"gfx\": \"Vermling Raider\", \"roundSummoned\": -1, \"type\": 1, \"chill\": 0, \"conditions\": [], \"conditionsAddedThisTurn\": [], \"conditionsAddedPreviousTurn\": [] }], \"isAlly\": false, \"level\": 1 }, {\"id\": \"Blood Monstrosity\", \"turnState\": 0, \"isActive\": false, \"type\": \"Blood Monstrosity\", \"monsterInstances\": [{\"health\": 8, \"maxHealth\": 9, \"level\": 1, \"standeeNr\": 2, \"move\": 0, \"attack\": 0, \"range\": 0, \"name\": \"Blood Monstrosity\", \"gfx\": \"Blood Monstrosity\", \"roundSummoned\": -1, \"type\": 0, \"chill\": 0, \"conditions\": [], \"conditionsAddedThisTurn\": [], \"conditionsAddedPreviousTurn\": [] }], \"isAlly\": false, \"level\": 1 }], \"currentAbilityDecks\": [{\"name\": \"Common Vermling Raider\", \"drawPile\": [{\"nr\": 375, \"deck\": \"Common Vermling Raider\" }], \"discardPile\": [], \"lastRoundDrawn\": 0 }, {\"name\": \"Monstrosity\", \"drawPile\": [{\"nr\": 423, \"deck\": \"Monstrosity\" },{\"nr\": 422, \"deck\": \"Monstrosity\" },{\"nr\": 421, \"deck\": \"Monstrosity\" },{\"nr\": 426, \"deck\": \"Monstrosity\" },{\"nr\": 424, \"deck\": \"Monstrosity\" },{\"nr\": 427, \"deck\": \"Monstrosity\" },{\"nr\": 425, \"deck\": \"Monstrosity\" },{\"nr\": 420, \"deck\": \"Monstrosity\" }], \"discardPile\": [], \"lastRoundDrawn\": 0 }], \"modifierDeck\": {\"blesses\": 1, \"curses\": 0, \"enfeebles\": 0, \"addedMinusOnes\": 0, \"badOmen\": 0, \"drawPile\": [{\"gfx\": \"minus2\" },{\"gfx\": \"plus0\" },{\"gfx\": \"plus1\" },{\"gfx\": \"plus1\" },{\"gfx\": \"minus1\" },{\"gfx\": \"plus0\" },{\"gfx\": \"plus0\" },{\"gfx\": \"minus1\" },{\"gfx\": \"plus0\" },{\"gfx\": \"plus0\" },{\"gfx\": \"plus0\" },{\"gfx\": \"minus1\" },{\"gfx\": \"minus1\" },{\"gfx\": \"plus1\" },{\"gfx\": \"plus1\" },{\"gfx\": \"minus1\" },{\"gfx\": \"bless\" },{\"gfx\": \"doubleAttack\" },{\"gfx\": \"plus2\" },{\"gfx\": \"plus1\" },{\"gfx\": \"nullAttack\" }], \"discardPile\": [] }, \"modifierDeckAllies\": {\"blesses\": 0, \"curses\": 0, \"enfeebles\": 0, \"addedMinusOnes\": 0, \"badOmen\": 0, \"drawPile\": [{\"gfx\": \"minus1-allies\" },{\"gfx\": \"plus1-allies\" },{\"gfx\": \"doubleAttack-allies\" },{\"gfx\": \"plus1-allies\" },{\"gfx\": \"minus1-allies\" },{\"gfx\": \"minus1-allies\" },{\"gfx\": \"plus0-allies\" },{\"gfx\": \"plus0-allies\" },{\"gfx\": \"plus2-allies\" },{\"gfx\": \"minus2-allies\" },{\"gfx\": \"plus0-allies\" },{\"gfx\": \"plus0-allies\" },{\"gfx\": \"nullAttack-allies\" },{\"gfx\": \"plus0-allies\" },{\"gfx\": \"minus1-allies\" },{\"gfx\": \"minus1-allies\" },{\"gfx\": \"plus0-allies\" },{\"gfx\": \"plus1-allies\" },{\"gfx\": \"plus1-allies\" },{\"gfx\": \"plus1-allies\" }], \"discardPile\": [] }, \"lootDeck\": {\"drawPile\": [], \"discardPile\": [], \"addedCards\": [0, 0, 0, 0, 0, 0, 0, 0, 0], \"enhancements\": {}, \"1418\": false, \"1419\": false }, \"unlockedClasses\": [\"Demolitionist\"], \"showAllyDeck\": false, \"elementState\": {\"5\":2,\"2\":2,\"3\":2,\"4\":2,\"1\":2,\"0\":2} }[EOM]'"
   ]
  },
  {
   "cell_type": "code",
   "execution_count": null,
   "metadata": {},
   "outputs": [],
   "source": [
    "send_data_to_server(data)"
   ]
  },
  {
   "cell_type": "code",
   "execution_count": 1,
   "metadata": {},
   "outputs": [
    {
     "name": "stdout",
     "output_type": "stream",
     "text": [
      "Level:  1\n",
      "Solo:  False\n",
      "RoundState:  None\n"
     ]
    }
   ],
   "source": [
    "import frosthaven_speech\n",
    "i = frosthaven_speech.GameState()\n",
    "\n",
    "i.update_gamestate('{\"level\": 1, \"solo\": false}')"
   ]
  },
  {
   "cell_type": "code",
   "execution_count": null,
   "metadata": {},
   "outputs": [],
   "source": [
    "i.update_gamestate('{\"level\": 1, \"solo\": false, \"roundState\": 0, \"round\": 1, \"scenario\": \"#1 Roadside Ambush\", \"toastMessage\": \"\", \"scenarioSpecialRules\": [], \"scenarioSectionsAdded\": [], \"currentCampaign\": \"Jaws of the Lion\", \"currentList\": [{\"id\": \"Demolitionist\", \"turnState\": 0, \"characterState\": {\"initiative\": 5, \"health\": 11, \"maxHealth\": 11, \"level\": 3, \"xp\": 0, \"chill\": 0, \"display\": \"Demolitionist\", \"summonList\": [], \"conditions\": [], \"conditionsAddedThisTurn\": [], \"conditionsAddedPreviousTurn\": [] }, \"characterClass\": \"Demolitionist\" }, {\"id\": \"Common Vermling Raider\", \"turnState\": 0, \"isActive\": false, \"type\": \"Common Vermling Raider\", \"monsterInstances\": [{\"health\": 6, \"maxHealth\": 10, \"level\": 1, \"standeeNr\": 1, \"move\": 0, \"attack\": 0, \"range\": 0, \"name\": \"Common Vermling Raider\", \"gfx\": \"Vermling Raider\", \"roundSummoned\": -1, \"type\": 1, \"chill\": 0, \"conditions\": [], \"conditionsAddedThisTurn\": [], \"conditionsAddedPreviousTurn\": [] }, {\"health\": 6, \"maxHealth\": 10, \"level\": 1, \"standeeNr\": 3, \"move\": 0, \"attack\": 0, \"range\": 0, \"name\": \"Common Vermling Raider\", \"gfx\": \"Vermling Raider\", \"roundSummoned\": -1, \"type\": 1, \"chill\": 0, \"conditions\": [], \"conditionsAddedThisTurn\": [], \"conditionsAddedPreviousTurn\": [] }], \"isAlly\": false, \"level\": 1 }, {\"id\": \"Blood Monstrosity\", \"turnState\": 0, \"isActive\": false, \"type\": \"Blood Monstrosity\", \"monsterInstances\": [{\"health\": 8, \"maxHealth\": 9, \"level\": 1, \"standeeNr\": 2, \"move\": 0, \"attack\": 0, \"range\": 0, \"name\": \"Blood Monstrosity\", \"gfx\": \"Blood Monstrosity\", \"roundSummoned\": -1, \"type\": 0, \"chill\": 0, \"conditions\": [], \"conditionsAddedThisTurn\": [], \"conditionsAddedPreviousTurn\": [] }], \"isAlly\": false, \"level\": 1 }], \"currentAbilityDecks\": [{\"name\": \"Common Vermling Raider\", \"drawPile\": [{\"nr\": 375, \"deck\": \"Common Vermling Raider\" }], \"discardPile\": [], \"lastRoundDrawn\": 0 }, {\"name\": \"Monstrosity\", \"drawPile\": [{\"nr\": 423, \"deck\": \"Monstrosity\" },{\"nr\": 422, \"deck\": \"Monstrosity\" },{\"nr\": 421, \"deck\": \"Monstrosity\" },{\"nr\": 426, \"deck\": \"Monstrosity\" },{\"nr\": 424, \"deck\": \"Monstrosity\" },{\"nr\": 427, \"deck\": \"Monstrosity\" },{\"nr\": 425, \"deck\": \"Monstrosity\" },{\"nr\": 420, \"deck\": \"Monstrosity\" }], \"discardPile\": [], \"lastRoundDrawn\": 0 }], \"modifierDeck\": {\"blesses\": 1, \"curses\": 0, \"enfeebles\": 0, \"addedMinusOnes\": 0, \"badOmen\": 0, \"drawPile\": [{\"gfx\": \"minus2\" },{\"gfx\": \"plus0\" },{\"gfx\": \"plus1\" },{\"gfx\": \"plus1\" },{\"gfx\": \"minus1\" },{\"gfx\": \"plus0\" },{\"gfx\": \"plus0\" },{\"gfx\": \"minus1\" },{\"gfx\": \"plus0\" },{\"gfx\": \"plus0\" },{\"gfx\": \"plus0\" },{\"gfx\": \"minus1\" },{\"gfx\": \"minus1\" },{\"gfx\": \"plus1\" },{\"gfx\": \"plus1\" },{\"gfx\": \"minus1\" },{\"gfx\": \"bless\" },{\"gfx\": \"doubleAttack\" },{\"gfx\": \"plus2\" },{\"gfx\": \"plus1\" },{\"gfx\": \"nullAttack\" }], \"discardPile\": [] }, \"modifierDeckAllies\": {\"blesses\": 0, \"curses\": 0, \"enfeebles\": 0, \"addedMinusOnes\": 0, \"badOmen\": 0, \"drawPile\": [{\"gfx\": \"minus1-allies\" },{\"gfx\": \"plus1-allies\" },{\"gfx\": \"doubleAttack-allies\" },{\"gfx\": \"plus1-allies\" },{\"gfx\": \"minus1-allies\" },{\"gfx\": \"minus1-allies\" },{\"gfx\": \"plus0-allies\" },{\"gfx\": \"plus0-allies\" },{\"gfx\": \"plus2-allies\" },{\"gfx\": \"minus2-allies\" },{\"gfx\": \"plus0-allies\" },{\"gfx\": \"plus0-allies\" },{\"gfx\": \"nullAttack-allies\" },{\"gfx\": \"plus0-allies\" },{\"gfx\": \"minus1-allies\" },{\"gfx\": \"minus1-allies\" },{\"gfx\": \"plus0-allies\" },{\"gfx\": \"plus1-allies\" },{\"gfx\": \"plus1-allies\" },{\"gfx\": \"plus1-allies\" }], \"discardPile\": [] }, \"lootDeck\": {\"drawPile\": [], \"discardPile\": [], \"addedCards\": [0, 0, 0, 0, 0, 0, 0, 0, 0], \"enhancements\": {}, \"1418\": false, \"1419\": false }, \"unlockedClasses\": [\"Demolitionist\"], \"showAllyDeck\": false, \"elementState\": {\"5\":2,\"2\":2,\"3\":2,\"4\":2,\"1\":2,\"0\":2} }')"
   ]
  },
  {
   "cell_type": "code",
   "execution_count": 1,
   "metadata": {},
   "outputs": [],
   "source": [
    "import xhaven_speech\n",
    "from xhaven_speech import xhaven_core\n",
    "import time"
   ]
  },
  {
   "cell_type": "code",
   "execution_count": null,
   "metadata": {},
   "outputs": [],
   "source": []
  }
 ],
 "metadata": {
  "kernelspec": {
   "display_name": "Python 3",
   "language": "python",
   "name": "python3"
  },
  "language_info": {
   "codemirror_mode": {
    "name": "ipython",
    "version": 3
   },
   "file_extension": ".py",
   "mimetype": "text/x-python",
   "name": "python",
   "nbconvert_exporter": "python",
   "pygments_lexer": "ipython3",
   "version": "3.12.0"
  }
 },
 "nbformat": 4,
 "nbformat_minor": 2
}
